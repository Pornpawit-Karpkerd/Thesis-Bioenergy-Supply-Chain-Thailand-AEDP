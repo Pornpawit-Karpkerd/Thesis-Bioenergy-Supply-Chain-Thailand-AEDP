{
 "cells": [
  {
   "cell_type": "code",
   "execution_count": null,
   "metadata": {},
   "outputs": [],
   "source": [
    "import pandas as pd\n",
    "import numpy as np\n",
    "from mip import *\n",
    "from pulp import *\n",
    "import csv\n",
    "from pulp import GLPK\n",
    "import matplotlib.pyplot as plt\n",
    "import math\n",
    "import statistics\n",
    "from pytictoc import TicToc\n",
    "import time\n",
    "from ttictoc import tic,toc\n",
    "import requests\n",
    "import json\n",
    "import polyline\n",
    "import folium"
   ]
  },
  {
   "cell_type": "code",
   "execution_count": null,
   "metadata": {
    "scrolled": true
   },
   "outputs": [],
   "source": [
    "# Supplier profile\n",
    "Supplier_profile = pd.read_csv(\"after-addition monthly suppliers profile.csv\")\n",
    "display(Supplier_profile)"
   ]
  },
  {
   "cell_type": "code",
   "execution_count": null,
   "metadata": {},
   "outputs": [],
   "source": [
    "# Suppliers profile\n",
    "\n",
    "B = 17 # set of biomass\n",
    "S = 77 # set of suppliers\n",
    "T = 12 # set of time-step\n",
    "Supplier_Profile=np.zeros([B,S,T])\n",
    "for s in range(S):\n",
    "    for b in range(B):\n",
    "        for t in range(T):\n",
    "                Supplier_Profile[b,s,t] = Supplier_profile.iloc[(17*s)+b,t+2]"
   ]
  },
  {
   "cell_type": "code",
   "execution_count": null,
   "metadata": {},
   "outputs": [],
   "source": [
    "# Power plant profile\n",
    "PowerPlant_profile = pd.read_csv(\"plants profile.csv\")\n",
    "PowerPlant_profile"
   ]
  },
  {
   "cell_type": "code",
   "execution_count": null,
   "metadata": {},
   "outputs": [],
   "source": [
    "# Distance\n",
    "Distance = pd.read_csv(\"distance.csv\")\n",
    "display(Distance)"
   ]
  },
  {
   "cell_type": "code",
   "execution_count": null,
   "metadata": {
    "scrolled": true
   },
   "outputs": [],
   "source": [
    "# Biomass data\n",
    "Biomass_data = pd.read_csv(\"biomass.csv\")\n",
    "display(Biomass_data)"
   ]
  },
  {
   "cell_type": "code",
   "execution_count": null,
   "metadata": {},
   "outputs": [],
   "source": [
    "num_days_in_month = np.array([31,28,31,30,31,30,31,31,30,31,30,31])"
   ]
  },
  {
   "cell_type": "code",
   "execution_count": null,
   "metadata": {},
   "outputs": [],
   "source": [
    "# Distance new plants\n",
    "LPtP= pd.read_csv(\"industrial area loc.csv\")\n",
    "LPtP=LPtP.drop(['From/To'], axis=1)\n",
    "display(LPtP)"
   ]
  },
  {
   "cell_type": "markdown",
   "metadata": {},
   "source": [
    "# ==========================================================\n",
    "# Optimize with the lowest sum distance (center of gravity)\n",
    "# =========================================================="
   ]
  },
  {
   "cell_type": "code",
   "execution_count": null,
   "metadata": {},
   "outputs": [],
   "source": [
    "tic()\n",
    "C_TF = 455542.86 # Fixed transportation cost per a truck\n",
    "D_Eth = 4790000 #L/day\n",
    "D_BElc = 3940 # MW (target at 3940 MW)\n",
    "D_GElc = 387 # MW (target at 387 MW)\n",
    "C_IF = 0 #THB/ton\n",
    "\n",
    "# PuLP\n",
    "# Set==========================================================================\n",
    "B = 17 # set of biomass\n",
    "S = 77 # set of suppliers\n",
    "PQ123 = 215 # set of plant\n",
    "PQ4 = 185\n",
    "PQ5 = 27\n",
    "T = 12 # set of time period\n",
    "F = 77\n",
    "M = 2 # new plants\n",
    "\n",
    "prob = LpProblem(name = 'Additional_Biomass_improved_SC', sense = LpMinimize)\n",
    "\n",
    "Ynew = LpVariable.dicts(\"Binary_variables\",((m,f) for m in range(M) for f in range(F)), lowBound=0, cat=\"Binary\")\n",
    "\n",
    "# Objective ==========================================================================\n",
    "\n",
    "\n",
    "prob+= lpSum(LPtP.iloc[s,f]*Ynew[m,f] for m in range(M) for s in range(S) for f in range(F))\n",
    "\n",
    "for m in range(M):\n",
    "    prob+=Ynew[m,0] == 0\n",
    "\n",
    "prob+= lpSum(Ynew[m,f] for m in range(M) for f in range(F)) == M    \n",
    "    \n",
    "status=prob.solve() \n",
    "\n",
    "elapsed = toc()\n",
    "print('Elapsed time:',elapsed)\n",
    "\n",
    "print(LpStatus[status])\n",
    "print('Obj value:   ', value(prob.objective))\n",
    "\n",
    "for f in range(F):\n",
    "    for m in range(M):\n",
    "        if Ynew[m,f].varValue == 1:\n",
    "            print('Y_{}_{}  :  '.format(m+1,f+1), Ynew[m,f].varValue)\n",
    "            \n",
    "            \n",
    "for m in range(M):\n",
    "    print(\"Total distance from all suppliers to plant {} is   \".format(m+1), lpSum(LPtP.iloc[s,f]*Ynew[m,f].varValue for s in range(S) for f in range(F)))"
   ]
  }
 ],
 "metadata": {
  "kernelspec": {
   "display_name": "Python 3",
   "language": "python",
   "name": "python3"
  },
  "language_info": {
   "codemirror_mode": {
    "name": "ipython",
    "version": 3
   },
   "file_extension": ".py",
   "mimetype": "text/x-python",
   "name": "python",
   "nbconvert_exporter": "python",
   "pygments_lexer": "ipython3",
   "version": "3.7.4"
  },
  "nteract": {
   "version": "0.27.0"
  }
 },
 "nbformat": 4,
 "nbformat_minor": 4
}
